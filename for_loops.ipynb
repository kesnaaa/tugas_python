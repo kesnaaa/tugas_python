{
  "nbformat": 4,
  "nbformat_minor": 0,
  "metadata": {
    "colab": {
      "provenance": [],
      "authorship_tag": "ABX9TyNmJhIJHg6avKHBygsVOra2",
      "include_colab_link": true
    },
    "kernelspec": {
      "name": "python3",
      "display_name": "Python 3"
    },
    "language_info": {
      "name": "python"
    }
  },
  "cells": [
    {
      "cell_type": "markdown",
      "metadata": {
        "id": "view-in-github",
        "colab_type": "text"
      },
      "source": [
        "<a href=\"https://colab.research.google.com/github/kesnaaa/tugas_python/blob/main/for_loops.ipynb\" target=\"_parent\"><img src=\"https://colab.research.google.com/assets/colab-badge.svg\" alt=\"Open In Colab\"/></a>"
      ]
    },
    {
      "cell_type": "markdown",
      "source": [
        "**For loops**\n",
        "Metode lain yang berguna dalam bahasa pemrograman Python adalah iterator. Hal ini sangat membantu jika Anda ingin melakukan sesuatu beberapa kali."
      ],
      "metadata": {
        "id": "VWWeRswZemXP"
      }
    },
    {
      "cell_type": "code",
      "source": [
        "print(\"Hai\")\n",
        "print(\"Hai\")\n",
        "print(\"Hai\")"
      ],
      "metadata": {
        "colab": {
          "base_uri": "https://localhost:8080/"
        },
        "id": "_fa4thd1es0f",
        "outputId": "56bcbe5b-d0c4-42a6-c77a-256745aaf4e1"
      },
      "execution_count": 1,
      "outputs": [
        {
          "output_type": "stream",
          "name": "stdout",
          "text": [
            "Hai\n",
            "Hai\n",
            "Hai\n"
          ]
        }
      ]
    },
    {
      "cell_type": "markdown",
      "source": [
        "Dapat dibayangkan jika kita ingin menulis kata \"Hai\" sebanyak seribu kali, tentu kode program kita akan sangat sulit untuk di baca, selain itu, kemungkinan terjadinya kesalahan sangat lah besar. Oleh karena itu, kita dapat menggunakan suatu cara yang disebut loop atau iterator. Ada dua cara untuk menjalankan perintah tersebut, yaitu dengan for atau while loop.\n",
        "Pada contoh kali ini, kita akan menggunakan metode range. Metode ini yang menentukan rentang loop seberapa banyak perintah harus di ulang. Secara default, titik awalnya adalah 0."
      ],
      "metadata": {
        "id": "_uiXegiiewV6"
      }
    },
    {
      "cell_type": "code",
      "source": [
        "for i in range(3):\n",
        "   print(\"Hai\")"
      ],
      "metadata": {
        "colab": {
          "base_uri": "https://localhost:8080/"
        },
        "id": "sJFCBeK9e0-z",
        "outputId": "ee088682-e2bb-4ba5-f9ad-5df37bdadf8e"
      },
      "execution_count": 2,
      "outputs": [
        {
          "output_type": "stream",
          "name": "stdout",
          "text": [
            "Hai\n",
            "Hai\n",
            "Hai\n"
          ]
        }
      ]
    },
    {
      "cell_type": "markdown",
      "source": [
        "Contoh lainnya jika kita ingin membuat rentang yang berbeda, maka kita dapat menggunakan range(1,3)."
      ],
      "metadata": {
        "id": "7NYPZsmUe5XR"
      }
    },
    {
      "cell_type": "code",
      "source": [
        "for i in range(1,3):\n",
        "   print(\"Hai\")"
      ],
      "metadata": {
        "colab": {
          "base_uri": "https://localhost:8080/"
        },
        "id": "cyZQZfCbe7-y",
        "outputId": "9ef691db-25f1-46be-a274-abc8007fe8f8"
      },
      "execution_count": 3,
      "outputs": [
        {
          "output_type": "stream",
          "name": "stdout",
          "text": [
            "Hai\n",
            "Hai\n"
          ]
        }
      ]
    },
    {
      "cell_type": "markdown",
      "source": [
        "\"Hai\" hanya tercetak dua kali karena kita telah menentukan rentang dari angka 1 hingga 3. Sederhananya kita dapat mengurangi angka sebelah kanan dengan sebelah kiri.\n",
        "Kita pun dapat menambahkan perintah lain setelah loop selesai, seperti pada contoh di bawah ini:"
      ],
      "metadata": {
        "id": "zTHRFaFue8qS"
      }
    },
    {
      "cell_type": "code",
      "source": [
        "for i in range(3):\n",
        "  print(\"Hai\")\n",
        "else:\n",
        "  print(\"Selesai\")"
      ],
      "metadata": {
        "colab": {
          "base_uri": "https://localhost:8080/"
        },
        "id": "n3zahptPfDT8",
        "outputId": "0af52608-79a4-4639-ecf1-f91153dcf310"
      },
      "execution_count": 4,
      "outputs": [
        {
          "output_type": "stream",
          "name": "stdout",
          "text": [
            "Hai\n",
            "Hai\n",
            "Hai\n",
            "Selesai\n"
          ]
        }
      ]
    },
    {
      "cell_type": "markdown",
      "source": [
        "Dapat kita lihat bahwa loop telah melakukan iterasi sebanyak 3 kali ( 3 - 0 ). Setelah iterasi selesai, tahap selanjutnya adalah mengeksekusi statement else.\n",
        "Selain itu kita pun dapat melakukan nesting for loop di dalam for loop yang lain."
      ],
      "metadata": {
        "id": "dZKbzR3wfGqB"
      }
    },
    {
      "cell_type": "code",
      "source": [
        "for i in range(3):\n",
        "     for j in range(2):\n",
        "        print(\"loop di dalam\")\n",
        "     print(\"loop di luar\")"
      ],
      "metadata": {
        "colab": {
          "base_uri": "https://localhost:8080/"
        },
        "id": "Cqq7AKzwfJUb",
        "outputId": "72aae2d3-9a5d-4b51-8986-055221dbe583"
      },
      "execution_count": 5,
      "outputs": [
        {
          "output_type": "stream",
          "name": "stdout",
          "text": [
            "loop di dalam\n",
            "loop di dalam\n",
            "loop di luar\n",
            "loop di dalam\n",
            "loop di dalam\n",
            "loop di luar\n",
            "loop di dalam\n",
            "loop di dalam\n",
            "loop di luar\n"
          ]
        }
      ]
    },
    {
      "cell_type": "markdown",
      "source": [
        "Dapat kita lihat bersama bahwa statement \"loop di dalam\" tereksekusi dua kali. Setelah itu \"loop di luar\" di eksekusi satu kali. Lalu, \"loop di dalam\" di eksekusi lagi sebanyak dua kali.\n",
        "Jika Anda masih bingung, semoga pernyataan ini dapat membantu:\n",
        "Python interpreter melihat ada perintah for loop pada bagian awal. Selanjutnya membaca ke bagian bawah dan menemukan keberadaan for loop yang lain.\n",
        "Sehingga, Python akan mengesekusi \"loop di dalam\" sebanyak dua kali. Setelah selesai yang pertama, interpreter masih harus melakukannya dua kali lagi dari sisa \"loop di luar\" yang harus dilakukan.\n",
        "Selanjutnya Interpreter melakukan tugas mulai lagi dari awal dan melihat for \"loop di dalam\" dan di ulangi terus hingga \"loop di luar\" selesai.\n",
        "Kita pun dapat memilih untuk melewati for loop pada kondisi tertentu. Maksudnya adalah setiap kali proses looping dijalankan, hingga intrepreter melihat statement pass, sehingga membuatnya tidak mengesekusi baris tersebut dan akan melanjutkan pada baris setelahnya (jika ada)."
      ],
      "metadata": {
        "id": "rz3GnTIPfNYD"
      }
    },
    {
      "cell_type": "code",
      "source": [
        "for i in range(3):\n",
        "   pass"
      ],
      "metadata": {
        "id": "S6lfCrDdfQ09"
      },
      "execution_count": 6,
      "outputs": []
    },
    {
      "cell_type": "markdown",
      "source": [
        "Anda tidak akan melihat output di sini, karena setelah pass tidak ada lagi baris kode program."
      ],
      "metadata": {
        "id": "Q5peE-AsfTlo"
      }
    }
  ]
}
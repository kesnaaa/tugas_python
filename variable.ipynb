{
  "nbformat": 4,
  "nbformat_minor": 0,
  "metadata": {
    "colab": {
      "provenance": [],
      "authorship_tag": "ABX9TyNq5vm1TU+tLZ1X3GXSWEr6",
      "include_colab_link": true
    },
    "kernelspec": {
      "name": "python3",
      "display_name": "Python 3"
    },
    "language_info": {
      "name": "python"
    }
  },
  "cells": [
    {
      "cell_type": "markdown",
      "metadata": {
        "id": "view-in-github",
        "colab_type": "text"
      },
      "source": [
        "<a href=\"https://colab.research.google.com/github/kesnaaa/tugas_python/blob/main/variable.ipynb\" target=\"_parent\"><img src=\"https://colab.research.google.com/assets/colab-badge.svg\" alt=\"Open In Colab\"/></a>"
      ]
    },
    {
      "cell_type": "code",
      "source": [],
      "metadata": {
        "id": "gqkv9Am6_Vy1"
      },
      "execution_count": null,
      "outputs": []
    },
    {
      "cell_type": "markdown",
      "source": [
        "# Variable\n",
        "\n",
        "Sesuai dengan namanya, variable adalah sesuatu yang dapat berubah. Variabel ininii digunakan untuk merujuk menuju lokasi memori oleh proprogramgram koprogram\n",
        "Pada sebagian besar bahasa lain, Anda perlu menetapkan tipe data terhadap suatu variabel. Namun, hal itu tidak perlu dilakukan pada bahasa pemrograman python. Sebagai contoh, jika Anda menulis program dengan menggunakan bahasa C, maka sintaks yang harus anda tulis adalah int num = 39; Dengan Python Anda hanya cukup menuliskan num = 39.\n",
        "Untuk memeriksanya, Anda dapat membuka Jupyter notebook atau Python Shell, lalu lakukan langkah demi langkah perintah di bawah ini:\n",
        "\n",
        "**integer**\n",
        "\n",
        "Integer adalah angka numerik yang dapat berupa nilai positif, negatif, atau nol tanpa memiliki angka desimal"
      ],
      "metadata": {
        "id": "kU5lCngP_jzh"
      }
    },
    {
      "cell_type": "code",
      "source": [
        "\n",
        "num = 39\n",
        "print(num)\n",
        "39\n",
        "type(num)"
      ],
      "metadata": {
        "colab": {
          "base_uri": "https://localhost:8080/"
        },
        "id": "C4otCqhZBafl",
        "outputId": "5d378511-12b2-4f90-8001-dc751e02baf7"
      },
      "execution_count": null,
      "outputs": [
        {
          "output_type": "stream",
          "name": "stdout",
          "text": [
            "39\n"
          ]
        },
        {
          "output_type": "execute_result",
          "data": {
            "text/plain": [
              "int"
            ]
          },
          "metadata": {},
          "execution_count": 1
        }
      ]
    },
    {
      "cell_type": "markdown",
      "source": [
        "**Float**\n",
        "Float adalah angka numerik sama seperti integer , namun ada sedikit perbedaan, yaitu adanya angka desimal"
      ],
      "metadata": {
        "id": "Qca1a4HFBjNj"
      }
    },
    {
      "cell_type": "code",
      "source": [
        "num = 39.0\n",
        "print(num)\n",
        "39.0\n",
        "type(num)"
      ],
      "metadata": {
        "colab": {
          "base_uri": "https://localhost:8080/"
        },
        "id": "ZyG802JpBxOJ",
        "outputId": "040d0638-d2c9-4830-dc33-b21e011b91a9"
      },
      "execution_count": null,
      "outputs": [
        {
          "output_type": "stream",
          "name": "stdout",
          "text": [
            "39.0\n"
          ]
        },
        {
          "output_type": "execute_result",
          "data": {
            "text/plain": [
              "float"
            ]
          },
          "metadata": {},
          "execution_count": 2
        }
      ]
    },
    {
      "cell_type": "markdown",
      "source": [
        "**String**\n",
        "String adalah kumpulan beberapa karakter atau integer. String tersebut direpresentasikan dengan menggunakan tanda quotes (double ataupun single)."
      ],
      "metadata": {
        "id": "mMFCQhx2B2xG"
      }
    },
    {
      "cell_type": "code",
      "source": [
        "test = \"Hallo semua\"\n",
        "print(test )\n",
        "\"Hallo semua\"\n",
        "type(test )"
      ],
      "metadata": {
        "colab": {
          "base_uri": "https://localhost:8080/"
        },
        "id": "NE2ECAOiCBIJ",
        "outputId": "fa5bd8fe-b47b-4620-de72-2f82acccd31e"
      },
      "execution_count": null,
      "outputs": [
        {
          "output_type": "stream",
          "name": "stdout",
          "text": [
            "Hallo semua\n"
          ]
        },
        {
          "output_type": "execute_result",
          "data": {
            "text/plain": [
              "str"
            ]
          },
          "metadata": {},
          "execution_count": 4
        }
      ]
    },
    {
      "cell_type": "markdown",
      "source": [
        "**Boolean**\n",
        "Boolean adalah operator biner yang hanya memiliki dua nilai output yaitu True atau False"
      ],
      "metadata": {
        "id": "mMXFSDIlCMOs"
      }
    },
    {
      "cell_type": "code",
      "source": [
        "\n",
        "anda_robot = False\n",
        "print(anda_robot)\n",
        "\"False\"\n",
        "type(anda_robot)"
      ],
      "metadata": {
        "colab": {
          "base_uri": "https://localhost:8080/"
        },
        "id": "l0gZRDPOCVFt",
        "outputId": "f800d130-4d97-447b-ebb9-41ce82996bbd"
      },
      "execution_count": null,
      "outputs": [
        {
          "output_type": "stream",
          "name": "stdout",
          "text": [
            "False\n"
          ]
        },
        {
          "output_type": "execute_result",
          "data": {
            "text/plain": [
              "bool"
            ]
          },
          "metadata": {},
          "execution_count": 5
        }
      ]
    },
    {
      "cell_type": "markdown",
      "source": [
        "**NoneType**\n",
        "NoneType digunakan ketika variable tidak memiliki nilai, seperti pada contoh di bawah ini:"
      ],
      "metadata": {
        "id": "8P5_708DCbXX"
      }
    },
    {
      "cell_type": "code",
      "source": [
        "num = None\n",
        "print(num)\n",
        "\"None\"\n",
        "type(num)"
      ],
      "metadata": {
        "colab": {
          "base_uri": "https://localhost:8080/"
        },
        "id": "FO50_n3_CqP0",
        "outputId": "08aa1380-46c6-43e4-82ef-878f431f71cd"
      },
      "execution_count": null,
      "outputs": [
        {
          "output_type": "stream",
          "name": "stdout",
          "text": [
            "None\n"
          ]
        },
        {
          "output_type": "execute_result",
          "data": {
            "text/plain": [
              "NoneType"
            ]
          },
          "metadata": {},
          "execution_count": 6
        }
      ]
    }
  ]
}
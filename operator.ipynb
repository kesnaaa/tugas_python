{
  "nbformat": 4,
  "nbformat_minor": 0,
  "metadata": {
    "colab": {
      "provenance": [],
      "authorship_tag": "ABX9TyNZNNYd4bTqJMoIIL7Gfgmv",
      "include_colab_link": true
    },
    "kernelspec": {
      "name": "python3",
      "display_name": "Python 3"
    },
    "language_info": {
      "name": "python"
    }
  },
  "cells": [
    {
      "cell_type": "markdown",
      "metadata": {
        "id": "view-in-github",
        "colab_type": "text"
      },
      "source": [
        "<a href=\"https://colab.research.google.com/github/kesnaaa/tugas_python/blob/main/operator.ipynb\" target=\"_parent\"><img src=\"https://colab.research.google.com/assets/colab-badge.svg\" alt=\"Open In Colab\"/></a>"
      ]
    },
    {
      "cell_type": "markdown",
      "source": [
        "**Operator**\n",
        "Operator adalah simbol aritmatika pada bahasa pemrograman Python atau bahasa lainnya, untuk melihat seluruh operator yang tersedia pada Python Anda dapat melihat table di bawah ini.\n",
        "Tabel Python operator\n",
        "Mari kita membahas satu per satu operator pada bahasa pemrograman python"
      ],
      "metadata": {
        "id": "f3inPHy4aLv9"
      }
    },
    {
      "cell_type": "markdown",
      "source": [
        "**Operator aritmatika**\n",
        "Operator yang akan kita bahas adalah penambahan, pengurangan, perkalian, eksponensial, modulus, dan pembagian. Mari kita lihat operasi aritmatika sederhana pada bahasa pemrograman Python.\n",
        "Pertama-tama kita akan mendeklarasikan dua variabel a dan b."
      ],
      "metadata": {
        "id": "K-8xDI-caaGb"
      }
    },
    {
      "cell_type": "code",
      "source": [
        "a = 6\n",
        "b = 2\n",
        "\n",
        "a + b # Penambahan\n",
        "8\n",
        "a - b # Pengurangan\n",
        "4\n",
        "a * b # Perkalian\n",
        "12\n",
        "a / b # Pembagian\n",
        "3.0\n",
        "a ** b # Eksponensial\n",
        "36"
      ],
      "metadata": {
        "colab": {
          "base_uri": "https://localhost:8080/"
        },
        "id": "z0UyAslIagjt",
        "outputId": "815cb305-0c77-4453-a42f-8702bf40b89e"
      },
      "execution_count": 1,
      "outputs": [
        {
          "output_type": "execute_result",
          "data": {
            "text/plain": [
              "36"
            ]
          },
          "metadata": {},
          "execution_count": 1
        }
      ]
    },
    {
      "cell_type": "markdown",
      "source": [
        "Contoh untuk menguji operator aritmatika lainnya:"
      ],
      "metadata": {
        "id": "RfNZJeaHbDfs"
      }
    },
    {
      "cell_type": "code",
      "source": [
        "a = 7\n",
        "b = 3\n",
        "a % b # Modulus (sisa pembagian)\n",
        "1\n",
        "a // b # Floor division (di bulatkan ke bawah)\n",
        "2"
      ],
      "metadata": {
        "colab": {
          "base_uri": "https://localhost:8080/"
        },
        "id": "F7VKMqfAbH1r",
        "outputId": "47bf0933-3dc2-4253-e175-2f7ae9cc53dc"
      },
      "execution_count": 2,
      "outputs": [
        {
          "output_type": "execute_result",
          "data": {
            "text/plain": [
              "2"
            ]
          },
          "metadata": {},
          "execution_count": 2
        }
      ]
    },
    {
      "cell_type": "markdown",
      "source": [
        "**Operator pembanding**\n",
        "Contoh operator pembanding adalah sama dengan, lebih besar dari, serta kurang dari."
      ],
      "metadata": {
        "id": "eiqlT7-EbKBc"
      }
    },
    {
      "cell_type": "code",
      "source": [
        "a = 5\n",
        "b = 2\n",
        "a > b # Lebih besar\n",
        "True\n",
        "a < b # kurang dari\n",
        "False\n",
        "a == b # sama dengan\n",
        "False\n",
        "a >= 5 # lebih besar atau sama dengan\n",
        "True\n",
        "b <= 1 # lebih kecil atau sama dengan\n",
        "False"
      ],
      "metadata": {
        "colab": {
          "base_uri": "https://localhost:8080/"
        },
        "id": "aX6EdoKUbReQ",
        "outputId": "4818415d-c417-4f99-cb51-7a181d917161"
      },
      "execution_count": 3,
      "outputs": [
        {
          "output_type": "execute_result",
          "data": {
            "text/plain": [
              "False"
            ]
          },
          "metadata": {},
          "execution_count": 3
        }
      ]
    },
    {
      "cell_type": "markdown",
      "source": [
        "**Operator logika**\n",
        "Operator ini \"tidak termasuk\", \"dan\", \"dan atau\""
      ],
      "metadata": {
        "id": "hHZ3UC9zbWIQ"
      }
    },
    {
      "cell_type": "code",
      "source": [
        "a = 10\n",
        "b = 2\n",
        "a == 2 and b == 10 # dan\n",
        "False\n",
        "a == 10 or b == 10 # atau\n",
        "True\n",
        "not(a == 10) # tidak\n",
        "False\n",
        "not(a == 2)\n",
        "True"
      ],
      "metadata": {
        "colab": {
          "base_uri": "https://localhost:8080/"
        },
        "id": "foU6wL_qbam4",
        "outputId": "2f6a1c8f-5ccc-4bbe-f61a-639f04dd8fc2"
      },
      "execution_count": 4,
      "outputs": [
        {
          "output_type": "execute_result",
          "data": {
            "text/plain": [
              "True"
            ]
          },
          "metadata": {},
          "execution_count": 4
        }
      ]
    },
    {
      "cell_type": "markdown",
      "source": [
        "**Conditional Statement**\n",
        "Conditional statement digunakan untuk memeriksa suatu kondisi yang ditentukan sebelumnya apakah nilai nya True atau False.\n",
        "Sering kali ketika kita sedang mengembangkan suatu aplikasi, ada hal di mana kita perlu memeriksa suatu kondisi tertentu lalu melakukan perintah yang berbeda tergantung pada hasil sebelumnya. Dalam skenario seperti itu conditional statement akan sangat berguna. if, elif dan else adalah pernyataan kondisional yang digunakan dalam bahasa pemrograman Python.\n",
        "Dengan conditional statement, kita dapat membandingkan suatu variable dan memeriksanya apakah variable tersebut memiliki nilai atau merupakan suatu boolean, dan selanjutnya memeriksa apakah True atau False. Oleh karena itu, mari kita praktekan penggunaannya."
      ],
      "metadata": {
        "id": "Q8h88Evubfm5"
      }
    },
    {
      "cell_type": "markdown",
      "source": [
        "**Kondisi pertama.** Kita memiliki suatu integer dan tiga kondisi. Yang pertama adalah kondisi if untuk mengecek apakah nomor tersebut sama dengan 10. Yang kedua adalah kondisi elif. Disini kita akan memeriksa apakah nomor tersebut kurang dari 10. Yang terakhir adalah kondisi else. Kondisi ini akan tereksekusi jika kedua kondisi sebelumnya tidak memenuhi syarat."
      ],
      "metadata": {
        "id": "CiGOgTESbyxE"
      }
    },
    {
      "cell_type": "code",
      "source": [
        "angka = 5\n",
        "if angka == 10:\n",
        "    print(\"angka adalah 10\")\n",
        "elif angka < 10:\n",
        "    print(\"angka adalah kurang dari 10\")\n",
        "else:\n",
        "    print(\"angka adalah lebih dari 10\")"
      ],
      "metadata": {
        "colab": {
          "base_uri": "https://localhost:8080/"
        },
        "id": "FCIEJjHCb0lD",
        "outputId": "08e8dbb3-8eda-4787-cd4e-82298e4a7ad4"
      },
      "execution_count": 5,
      "outputs": [
        {
          "output_type": "stream",
          "name": "stdout",
          "text": [
            "angka adalah kurang dari 10\n"
          ]
        }
      ]
    },
    {
      "cell_type": "markdown",
      "source": [
        "**Catatan:** Tidak wajib untuk menggunakan dua kondisi sama-dengan di dalam kondisi if. Anda dapat melakukannya dengan elif."
      ],
      "metadata": {
        "id": "yJ9c5q-1b5Hz"
      }
    },
    {
      "cell_type": "markdown",
      "source": [
        "**Kondisi kedua.** Pada kasus ini kita akan memiliki variabel boolean dan dua kondisi. Pada contoh sebelumnya ketika kita membahas mengenai boolean apakah benar atau salah? Saat ini kita akan menggunakannya kembali pada conditional statement.\n",
        "Jika anda_robot, lalu print \"Ya, saya robot\", selain itu print \"bukan, saya manusia\"."
      ],
      "metadata": {
        "id": "sETC3mR6cAAs"
      }
    },
    {
      "cell_type": "code",
      "source": [
        "anda_robot = False\n",
        "if anda_robot:\n",
        "    print (\"Ya, saya robot\")\n",
        "else:\n",
        "    print (\"bukan, saya manusia\")"
      ],
      "metadata": {
        "colab": {
          "base_uri": "https://localhost:8080/"
        },
        "id": "eF4n1VUYcOcR",
        "outputId": "4814c4f8-2d13-4ec2-9ccc-7872d3a39a47"
      },
      "execution_count": 6,
      "outputs": [
        {
          "output_type": "stream",
          "name": "stdout",
          "text": [
            "bukan, saya manusia\n"
          ]
        }
      ]
    },
    {
      "cell_type": "markdown",
      "source": [
        "**Kondisi ketiga.** Pada contoh ini kita akan membuat kondisi berkebalikan dari kondisi kedua dengan operator not."
      ],
      "metadata": {
        "id": "nw1yyl6vctDG"
      }
    },
    {
      "cell_type": "code",
      "source": [
        "anda_robot = False\n",
        "if not anda_robot:\n",
        "    print (\"Ya, saya robot\")\n",
        "else:\n",
        "    print (\"bukan, saya manusia\")"
      ],
      "metadata": {
        "colab": {
          "base_uri": "https://localhost:8080/"
        },
        "id": "g_D5qSlecyWB",
        "outputId": "848264e4-f6d2-4ecc-ec65-d3ade83840ba"
      },
      "execution_count": 7,
      "outputs": [
        {
          "output_type": "stream",
          "name": "stdout",
          "text": [
            "Ya, saya robot\n"
          ]
        }
      ]
    },
    {
      "cell_type": "markdown",
      "source": [
        "**Kondisi ke empat.** Disini kita akan mendeklarasikan data sebagai None, lalu memeriksanya jika data tersebut ada atau tidak."
      ],
      "metadata": {
        "id": "W8PSSxaPc39c"
      }
    },
    {
      "cell_type": "code",
      "source": [
        "data = None\n",
        "if data:\n",
        "    print (\"data bukan none\")\n",
        "else:\n",
        "    print (\"data adalah none\")"
      ],
      "metadata": {
        "colab": {
          "base_uri": "https://localhost:8080/"
        },
        "id": "CCmmbgHyc9Uy",
        "outputId": "8c97cdf3-d0d1-45b7-a2d1-dc58c9fe3fde"
      },
      "execution_count": 8,
      "outputs": [
        {
          "output_type": "stream",
          "name": "stdout",
          "text": [
            "data adalah none\n"
          ]
        }
      ]
    },
    {
      "cell_type": "markdown",
      "source": [
        "**Kondisi kelima.** Anda pun dapat menggunakan if dalam satu baris pada bahasa pemrograman Python. Syntax nya akan terlihat seperti pada:"
      ],
      "metadata": {
        "id": "LesQU1DZdAxG"
      }
    },
    {
      "cell_type": "code",
      "source": [
        "\n",
        "a = 10\n",
        "b = 5\n",
        "if a > b: print(\"a lebih besar dari b\")"
      ],
      "metadata": {
        "colab": {
          "base_uri": "https://localhost:8080/"
        },
        "id": "WLv-np0edQpo",
        "outputId": "91b0a2e3-090d-4ab0-dd36-f1e831f442ec"
      },
      "execution_count": 9,
      "outputs": [
        {
          "output_type": "stream",
          "name": "stdout",
          "text": [
            "a lebih besar dari b\n"
          ]
        }
      ]
    },
    {
      "cell_type": "markdown",
      "source": [
        "**Kondisi ke enam.** Anda pun dapat menggunakan if else dalam satu baris, seperti pada contoh di bawah ini:"
      ],
      "metadata": {
        "id": "zNaXhvIXdVDT"
      }
    },
    {
      "cell_type": "code",
      "source": [
        "num = 5\n",
        "print(\"Angka adalah lima \") if num == 5 else print(\"Angka bukan lima\")"
      ],
      "metadata": {
        "colab": {
          "base_uri": "https://localhost:8080/"
        },
        "id": "z21Q_5gEdaOI",
        "outputId": "b721bed7-b44e-4ae0-dd62-b3312590a60e"
      },
      "execution_count": 10,
      "outputs": [
        {
          "output_type": "stream",
          "name": "stdout",
          "text": [
            "Angka adalah lima \n"
          ]
        }
      ]
    },
    {
      "cell_type": "markdown",
      "source": [
        "**Kondisi ketujuh.** Anda pun dapat menggunakan nested if-else statement, yaitu:"
      ],
      "metadata": {
        "id": "OFuO12Fzddh4"
      }
    },
    {
      "cell_type": "code",
      "source": [
        "\n",
        "num = 25\n",
        "if num > 10:\n",
        "    print(\"Angka lebih besar dari 10\")\n",
        "    if num > 20:\n",
        "        print(\"Angka lebih besar dari 20\")\n",
        "    if num > 30:\n",
        "        print(\"Angka lebih besar dari 30\")\n",
        "else:\n",
        "    print(\"Angka lebih kecil dari 10\")"
      ],
      "metadata": {
        "colab": {
          "base_uri": "https://localhost:8080/"
        },
        "id": "O6lBdA-Xdiq_",
        "outputId": "bec485f5-a722-40e7-da6e-3b4ea3c0b26d"
      },
      "execution_count": 12,
      "outputs": [
        {
          "output_type": "stream",
          "name": "stdout",
          "text": [
            "Angka lebih besar dari 10\n",
            "Angka lebih besar dari 20\n"
          ]
        }
      ]
    },
    {
      "cell_type": "markdown",
      "source": [
        "**Kondisi kedelapan.** Anda dapat pula mengunakan operator and pada conditional statement. Operator ini menyatakan jika kondisi 1 dan 2 keduanya adalah benar."
      ],
      "metadata": {
        "id": "KZ-T-JiUdl1y"
      }
    },
    {
      "cell_type": "code",
      "source": [
        "num = 10\n",
        "if num > 5 and num < 15:\n",
        "     print(num)\n",
        "else:\n",
        "     print(\"Angka bisa lebih kecil dari 5 atau lebih besar dari 15\")"
      ],
      "metadata": {
        "colab": {
          "base_uri": "https://localhost:8080/"
        },
        "id": "4RqJHxbadw09",
        "outputId": "ba52ec2b-bd32-459b-8379-fa56ac0deabb"
      },
      "execution_count": 13,
      "outputs": [
        {
          "output_type": "stream",
          "name": "stdout",
          "text": [
            "10\n"
          ]
        }
      ]
    },
    {
      "cell_type": "markdown",
      "source": [
        "**Kondisi kesembilan.** Anda pun dapat menggunakan operator or dalam pernyataan bersyarat. Hal ini untuk menyatakan bahwa jika salah satu kondisi 1 atau kondisi 2 benar, sehingga program akan di eksekusi."
      ],
      "metadata": {
        "id": "GONkQBAWd0xP"
      }
    },
    {
      "cell_type": "code",
      "source": [
        "num = 10\n",
        "if num > 5 or num < 7:\n",
        "     print(num)"
      ],
      "metadata": {
        "colab": {
          "base_uri": "https://localhost:8080/"
        },
        "id": "-ivMcM-Vd7r0",
        "outputId": "80bb8f5e-a97f-49b3-87a8-f56ff7279256"
      },
      "execution_count": 14,
      "outputs": [
        {
          "output_type": "stream",
          "name": "stdout",
          "text": [
            "10\n"
          ]
        }
      ]
    },
    {
      "cell_type": "markdown",
      "source": [
        "Apakah Anda bingung karena output num adalah 10, padahal pada statement kedua adalah kurang dari 7? Hal ini disebabkan oleh kondisi or. Sehingga, jika salah satu kondisi terpenuhi, maka program akan tetap berjalan."
      ],
      "metadata": {
        "id": "b6J3Xl7fd-3R"
      }
    }
  ]
}